{
 "cells": [
  {
   "cell_type": "code",
   "execution_count": null,
   "metadata": {
    "collapsed": true
   },
   "outputs": [],
   "source": [
    "# python 3.6 以上とpandasを入れておくこと\n",
    "import pandas as pd\n",
    "import numpy as np\n",
    "pd.set_option('display.max_columns', 50)\n",
    "pd.set_option('display.max_rows', 200)\n",
    "import warnings\n",
    "warnings.filterwarnings('ignore')\n",
    "import math\n",
    "from pprint import pprint"
   ]
  },
  {
   "cell_type": "code",
   "execution_count": null,
   "metadata": {
    "collapsed": true
   },
   "outputs": [],
   "source": [
    "# 定数の定義\n",
    "\n",
    "ALL_EVENTS = [\n",
    "    '333',\n",
    "    '222', \n",
    "    '444',\n",
    "    '555',\n",
    "    '666',\n",
    "    '777',\n",
    "    '333bf',\n",
    "    '333fm',\n",
    "    '333oh',\n",
    "    '333ft',\n",
    "    'clock',\n",
    "    'minx',\n",
    "    'pyram',\n",
    "    'skewb',\n",
    "    'sq1',\n",
    "    '444bf',\n",
    "    '555bf',\n",
    "    '333mbf',\n",
    "]\n",
    "assert len(ALL_EVENTS) == 18, '全競技の数は18のはずですが、{}でした。'.format(len(ALL_EVENTS))\n"
   ]
  },
  {
   "cell_type": "code",
   "execution_count": null,
   "metadata": {
    "collapsed": true
   },
   "outputs": [],
   "source": [
    "# 入力ファイル、パラメータとかのいじる部分\n",
    "\n",
    "# WCAからダウンロードして、CubeCompsに挿入したのと同じファイルのパス\n",
    "# ID揃えるために順序変えていない同一ファイルを入れること\n",
    "input_csv_file = \"input.csv\" \n",
    "\n",
    "# 出力ファイルのパス\n",
    "output_file_csv = \"output.csv\"\n",
    "output_file_tsv = \"output.tsv\"\n",
    "\n",
    "# https://www.worldcubeassociation.org/results/misc/export.html からダウンロードしたランキングファイルのパス\n",
    "wca_RanksSingle_tsv_file = \"WCA_export_RanksSingle.tsv\"\n",
    "\n",
    "# 競技卓の数\n",
    "num_of_competition_tables = 12\n",
    "\n",
    "# 今大会で行われる各種目ごとの必要スタッフ人数\n",
    "# 基本的に、ジャッジは競技卓の数と同じ人数とする\n",
    "num_staffs = {\n",
    "    \"333\": {\"S\": 3, \"J\": (num_of_competition_tables + 0) },\n",
    "    \"222\": {\"S\": 3, \"J\": (num_of_competition_tables + 0) },\n",
    "    \"333oh\": {\"S\": 4, \"J\": (num_of_competition_tables + 0) },\n",
    "    \"333bf\": {\"S\": 4, \"J\": (num_of_competition_tables + 0) },\n",
    "}\n",
    "# 間違った種目名にしていないか確認\n",
    "assert all([ (event in ALL_EVENTS) for event in num_staffs.keys() ]), 'num_staffsの種目名に誤りがあります。'\n",
    "\n",
    "# スタッフを割り当てない人をここにリストアップする (運営スタッフ , 子供, 外国人等)\n",
    "# 初参加の人には自動で割り当てないようにするので、含める必要はない\n",
    "staff_blacklist = [\"2016MANN01\", \"2017FARN01\", \"2017FARN02\", \"2006NISH01\", \"2017SHIK01\", \"2016XIAN08\", \"2018YAMA02\", \"2012YOSH02\", \"2013KIMD01\", \"2018PILE01\", \"2017HIKI01\", \"2017OGAT01\", \"2016GABA02\", \"2018YOSH03\", \"2017FURU04\", \"2017TAKE04\", \"2017TAKE05\", \"2014ASHI01\", \"2018KITA01\", \"2015NUPU01\", \"2018KURO04\", \"2012JIAN06\", \"2010TANA02\", \"2018NOJI01\", \"2005SUSE01\", \"2017ALIB02\", \"2010SICH01\"] "
   ]
  },
  {
   "cell_type": "code",
   "execution_count": null,
   "metadata": {
    "scrolled": true
   },
   "outputs": [],
   "source": [
    "# 申込みデータのロード\n",
    "df = pd.read_csv(input_csv_file)\n",
    "# 個人情報がみえるとやばいので不要カラム除去。実際の利用時は除去しなくてよいのでこの行はコメントアウトする。\n",
    "df = df .drop([\"Status\", \"Birth Date\", \"Email\", \"Gender\", \"Guests\", \"IP\"], axis=1)\n",
    "df.index += 1 \n",
    "df.index.name = \"CubeComps ID\"\n",
    "df.head()"
   ]
  },
  {
   "cell_type": "code",
   "execution_count": null,
   "metadata": {},
   "outputs": [],
   "source": [
    "print('競技者数')\n",
    "for event in num_staffs.keys():\n",
    "    print(\"{event}: {num}\".format(event=event, num=len(df[df[event] == 1])))\n",
    "print()\n",
    "\n",
    "# 各種目ごとのグループ数は(競技卓の数の2倍)を基準に決定\n",
    "# 例: 117人で競技卓12なら、24で割って4あまり21なので5グループとする\n",
    "num_groups = { event: math.ceil(len(df[df[event] == 1]) / (num_of_competition_tables * 2)) for event in num_staffs.keys() }\n",
    "\n",
    "print('競技卓の数と参加者数から自動決定したグループ数 (※問題がある場合は手入力で直接編集してください)')\n",
    "'''\n",
    "# 例\n",
    "num_groups = {\n",
    "  '222': 3,\n",
    "  '333': 5,\n",
    "  '333bf': 2,\n",
    "  '333oh': 2\n",
    "}\n",
    "'''\n",
    "pprint(num_groups, width=3)\n",
    "\n"
   ]
  },
  {
   "cell_type": "code",
   "execution_count": null,
   "metadata": {
    "collapsed": true
   },
   "outputs": [],
   "source": [
    "group_labels = [\"A\", \"B\", \"C\", \"D\", \"E\", \"F\"]\n",
    "events = num_groups.keys()\n",
    "group_names = {event: [f\"{event}_{label}\" for label in group_labels[:num_groups[event]]] for event in events}"
   ]
  },
  {
   "cell_type": "code",
   "execution_count": null,
   "metadata": {},
   "outputs": [],
   "source": [
    "# WCAの単発ランキング情報のロード\n",
    "results_df = pd.read_table(wca_RanksSingle_tsv_file, dtype={'eventId': str})\n",
    "results_df.head()"
   ]
  },
  {
   "cell_type": "code",
   "execution_count": null,
   "metadata": {},
   "outputs": [],
   "source": [
    "#  グループ分けに使うカラムの追加\n",
    "df = df.assign(staffable=0).assign(**{f\"{event}_rank\": 999999 for event in events})\n",
    "df[\"event_count\"] = df[list(events)].sum(axis=1).astype(int)\n",
    "\n",
    "# スタッフ割り当て数と競技数は横並びのほうが見やすいので、この場所でカラムを宣言しておく\n",
    "df = df.assign(staff_count=0)\n",
    "\n",
    "for wcaid in df[\"WCA ID\"][df[\"WCA ID\"].notnull()]:\n",
    "    staffable = 0 if wcaid in staff_blacklist else 1\n",
    "    df.loc[df[\"WCA ID\"] == wcaid, \"staffable\"] = staffable\n",
    "    for event in events:\n",
    "        temp_series = results_df.query(f'personId == \"{wcaid}\" and eventId == \"{event}\"')[\"worldRank\"]\n",
    "        if not temp_series.empty:\n",
    "            rank = temp_series.item()\n",
    "            df.loc[df[\"WCA ID\"] == wcaid, f\"{event}_rank\"] = rank\n",
    "df.head()"
   ]
  },
  {
   "cell_type": "code",
   "execution_count": null,
   "metadata": {
    "collapsed": true
   },
   "outputs": [],
   "source": [
    "# 各種目のグループカラムの初期化\n",
    "df = df.assign(**{group_name: 0 for group_name in sum(group_names.values(), [])})"
   ]
  },
  {
   "cell_type": "code",
   "execution_count": null,
   "metadata": {
    "collapsed": true
   },
   "outputs": [],
   "source": [
    "# 競技グループ分け\n",
    "# 速い人から順にA, B, C… と等分するだけだと、あとのグループに経験が足りない人が偏り厳しいので、\n",
    "# まずスタッフができる人を速い方から(グループ数*2)個の群に等分し、順に A, B, C, A, B, C のように割り当て、次に残りを等分する\n",
    "for (event, group_columns) in group_names.items():\n",
    "    n = len(group_columns)\n",
    "    competitors = df[df[event]==1]\n",
    "    staffable_competitors = competitors.query(\"staffable == 1\").sort_values(f\"{event}_rank\").index\n",
    "    unstaffable_competitors = competitors.query(\"staffable == 0\").sort_values(f\"{event}_rank\").index\n",
    "    for (group_column, group) in zip(group_columns * 3, np.array_split(staffable_competitors, n*2) + np.array_split(unstaffable_competitors, n)):\n",
    "        for idx in group:\n",
    "            df.loc[idx, group_column] = 1"
   ]
  },
  {
   "cell_type": "code",
   "execution_count": null,
   "metadata": {
    "collapsed": true
   },
   "outputs": [],
   "source": [
    "# スタッフ割当\n",
    "for (event, gnames) in group_names.items():\n",
    "    for (i_group, group_column) in enumerate(gnames):\n",
    "        staffable_df = df[df[\"staffable\"] == 1][df[group_column]  == 0]\n",
    "        staffable_df[\"staff_count-event_count\"] = staffable_df[\"staff_count\"] - staffable_df[\"event_count\"]\n",
    "        # その種目のグループ数が複数グループの場合\n",
    "        if len(gnames) > 1:\n",
    "            prev_group_column = gnames[i_group-1]\n",
    "            staff_candidates = np.r_[\n",
    "                #  原則、1つ前のグループの人に仕事を割り当てる。優先順序はその種目のランキング順。\n",
    "                staffable_df[staffable_df[prev_group_column] == 1].sort_values(f\"{event}_rank\").index,\n",
    "                # 足りない場合、同じ種目の1つ前以外のグループからも採用する。 \n",
    "                # 優先順位はここまででのスタッフ割当数の少ない人。割当数が同じ場合は、各種目のランキング順。\n",
    "                staffable_df[staffable_df[prev_group_column]  == 0][staffable_df[event] == 1].sort_values([\"staff_count\", \"staff_count-event_count\"] + [f\"{e}_rank\" for e in events]).index,\n",
    "                # 同じ種目の参加者で足りない場合は、その種目に参加しない人からも採用する。優先順位同じ。\n",
    "                staffable_df[staffable_df[prev_group_column]  == 0][staffable_df[event] == 0].sort_values([\"staff_count\", \"staff_count-event_count\"] + [f\"{e}_rank\" for e in events]).index\n",
    "            ]\n",
    "        # その種目のグループ数が1の場合\n",
    "        else: \n",
    "            # その種目に参加しない人から採用する。\n",
    "            # 優先順位はここまででのスタッフ割当数の少ない人。割当数が同じ場合は、各種目のランキング順。\n",
    "            staff_candidates = staffable_df[staffable_df[event] == 0].sort_values([\"staff_count\", \"staff_count-event_count\"] + [f\"{e}_rank\" for e in events]).index\n",
    "\n",
    "        for (role, num_needed) in num_staffs[event].items():\n",
    "            if len(staff_candidates) >= num_needed:\n",
    "                staff_ids = staff_candidates[:num_needed]\n",
    "                staff_candidates = staff_candidates[num_needed:]\n",
    "                for staff in staff_ids:\n",
    "                    df.loc[staff, group_column] = role\n",
    "                    df.loc[staff, \"staff_count\"] += 1\n",
    "            else:\n",
    "                raise Exception(\"スタッフ足りなくて割当無理でした\")"
   ]
  },
  {
   "cell_type": "code",
   "execution_count": null,
   "metadata": {},
   "outputs": [],
   "source": [
    "# グループ分け・スタッフ割り当て結果\n",
    "df"
   ]
  },
  {
   "cell_type": "code",
   "execution_count": null,
   "metadata": {},
   "outputs": [],
   "source": [
    "# 種目数よりスタッフ数が多くて、負担が多い人一覧\"\n",
    "df.query(\"staff_count > event_count\").sort_values(\"staff_count\", ascending=False)[[\"Name\", \"WCA ID\", \"staff_count\", \"event_count\"]]"
   ]
  },
  {
   "cell_type": "code",
   "execution_count": null,
   "metadata": {},
   "outputs": [],
   "source": [
    "# 種目数よりスタッフ数が少なくて、楽な人一覧\n",
    "df.query(\"staff_count < event_count and staffable == 1\").sort_values(\"staff_count\", ascending=False)[[\"Name\", \"WCA ID\", \"staff_count\", \"event_count\"]]"
   ]
  },
  {
   "cell_type": "code",
   "execution_count": null,
   "metadata": {},
   "outputs": [],
   "source": [
    "# 種目数とスタッフ数が同じ人一覧\n",
    "df.query(\"staff_count == event_count\").sort_values(\"staff_count\", ascending=False)[[\"Name\", \"WCA ID\", \"staff_count\", \"event_count\"]]"
   ]
  },
  {
   "cell_type": "code",
   "execution_count": null,
   "metadata": {},
   "outputs": [],
   "source": [
    "# 割当数確認\n",
    "for group_name in sum(group_names.values(), []):\n",
    "    print(f\"{group_name} の役割割当数\") \n",
    "    print(df[group_name].value_counts())\n",
    "    print()"
   ]
  },
  {
   "cell_type": "code",
   "execution_count": null,
   "metadata": {},
   "outputs": [],
   "source": [
    "# 最初の種目の最初のラウンドが初参加者なケース (いたら適当に手動でBに移すとかして調整して下さい)\n",
    "first_group = list(group_names.values())[0][0]\n",
    "df[df[\"WCA ID\"].isnull()][df[first_group]  == 1][[\"Name\", \"WCA ID\", first_group]]"
   ]
  },
  {
   "cell_type": "code",
   "execution_count": null,
   "metadata": {
    "collapsed": true
   },
   "outputs": [],
   "source": [
    "# 結果ファイルの出力\n",
    "df.to_csv(output_file_csv)\n",
    "df.to_csv(output_file_tsv, sep='\\t' )\n",
    "\n",
    "# そのままエクセルで開くと文字化けしちゃうので\n",
    "# ＄ cat output.tsv | pbcopy\n",
    "# みたいにして、エクエルにコピペすると良いと思う (Macの場合)"
   ]
  }
 ],
 "metadata": {
  "kernelspec": {
   "display_name": "Python 3",
   "language": "python",
   "name": "python3"
  },
  "language_info": {
   "codemirror_mode": {
    "name": "ipython",
    "version": 3
   },
   "file_extension": ".py",
   "mimetype": "text/x-python",
   "name": "python",
   "nbconvert_exporter": "python",
   "pygments_lexer": "ipython3",
   "version": "3.6.2"
  }
 },
 "nbformat": 4,
 "nbformat_minor": 2
}
